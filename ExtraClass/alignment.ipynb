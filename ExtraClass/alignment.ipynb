{
 "cells": [
  {
   "attachments": {},
   "cell_type": "markdown",
   "metadata": {},
   "source": [
    "# Installation"
   ]
  },
  {
   "cell_type": "code",
   "execution_count": 1,
   "metadata": {},
   "outputs": [
    {
     "name": "stdout",
     "output_type": "stream",
     "text": [
      "Requirement already satisfied: biopython in c:\\users\\user\\appdata\\local\\programs\\python\\python310\\lib\\site-packages (1.81)Note: you may need to restart the kernel to use updated packages.\n"
     ]
    },
    {
     "name": "stderr",
     "output_type": "stream",
     "text": [
      "WARNING: You are using pip version 21.2.3; however, version 23.1.2 is available.\n",
      "You should consider upgrading via the 'c:\\Users\\User\\AppData\\Local\\Programs\\Python\\Python310\\python.exe -m pip install --upgrade pip' command.\n"
     ]
    },
    {
     "name": "stdout",
     "output_type": "stream",
     "text": [
      "\n",
      "Requirement already satisfied: numpy in c:\\users\\user\\appdata\\local\\programs\\python\\python310\\lib\\site-packages (from biopython) (1.24.3)\n",
      "Requirement already satisfied: bio in c:\\users\\user\\appdata\\local\\programs\\python\\python310\\lib\\site-packages (1.5.9)Note: you may need to restart the kernel to use updated packages.\n"
     ]
    },
    {
     "name": "stderr",
     "output_type": "stream",
     "text": [
      "WARNING: You are using pip version 21.2.3; however, version 23.1.2 is available.\n",
      "You should consider upgrading via the 'c:\\Users\\User\\AppData\\Local\\Programs\\Python\\Python310\\python.exe -m pip install --upgrade pip' command.\n"
     ]
    },
    {
     "name": "stdout",
     "output_type": "stream",
     "text": [
      "\n",
      "Requirement already satisfied: requests in c:\\users\\user\\appdata\\local\\programs\\python\\python310\\lib\\site-packages (from bio) (2.31.0)\n",
      "Requirement already satisfied: pooch in c:\\users\\user\\appdata\\local\\programs\\python\\python310\\lib\\site-packages (from bio) (1.7.0)\n",
      "Requirement already satisfied: biopython>=1.80 in c:\\users\\user\\appdata\\local\\programs\\python\\python310\\lib\\site-packages (from bio) (1.81)\n",
      "Requirement already satisfied: mygene in c:\\users\\user\\appdata\\local\\programs\\python\\python310\\lib\\site-packages (from bio) (3.2.2)\n",
      "Requirement already satisfied: pandas in c:\\users\\user\\appdata\\local\\programs\\python\\python310\\lib\\site-packages (from bio) (2.0.2)\n",
      "Requirement already satisfied: tqdm in c:\\users\\user\\appdata\\local\\programs\\python\\python310\\lib\\site-packages (from bio) (4.65.0)\n",
      "Requirement already satisfied: gprofiler-official in c:\\users\\user\\appdata\\local\\programs\\python\\python310\\lib\\site-packages (from bio) (1.0.0)\n",
      "Requirement already satisfied: numpy in c:\\users\\user\\appdata\\local\\programs\\python\\python310\\lib\\site-packages (from biopython>=1.80->bio) (1.24.3)\n",
      "Requirement already satisfied: biothings-client>=0.2.6 in c:\\users\\user\\appdata\\local\\programs\\python\\python310\\lib\\site-packages (from mygene->bio) (0.3.0)\n",
      "Requirement already satisfied: urllib3<3,>=1.21.1 in c:\\users\\user\\appdata\\local\\programs\\python\\python310\\lib\\site-packages (from requests->bio) (2.0.3)\n",
      "Requirement already satisfied: idna<4,>=2.5 in c:\\users\\user\\appdata\\local\\programs\\python\\python310\\lib\\site-packages (from requests->bio) (3.4)\n",
      "Requirement already satisfied: certifi>=2017.4.17 in c:\\users\\user\\appdata\\local\\programs\\python\\python310\\lib\\site-packages (from requests->bio) (2023.5.7)\n",
      "Requirement already satisfied: charset-normalizer<4,>=2 in c:\\users\\user\\appdata\\local\\programs\\python\\python310\\lib\\site-packages (from requests->bio) (3.1.0)\n",
      "Requirement already satisfied: pytz>=2020.1 in c:\\users\\user\\appdata\\local\\programs\\python\\python310\\lib\\site-packages (from pandas->bio) (2023.3)\n",
      "Requirement already satisfied: tzdata>=2022.1 in c:\\users\\user\\appdata\\local\\programs\\python\\python310\\lib\\site-packages (from pandas->bio) (2023.3)\n",
      "Requirement already satisfied: python-dateutil>=2.8.2 in c:\\users\\user\\appdata\\roaming\\python\\python310\\site-packages (from pandas->bio) (2.8.2)\n",
      "Requirement already satisfied: six>=1.5 in c:\\users\\user\\appdata\\roaming\\python\\python310\\site-packages (from python-dateutil>=2.8.2->pandas->bio) (1.16.0)\n",
      "Requirement already satisfied: packaging>=20.0 in c:\\users\\user\\appdata\\roaming\\python\\python310\\site-packages (from pooch->bio) (23.1)\n",
      "Requirement already satisfied: platformdirs>=2.5.0 in c:\\users\\user\\appdata\\roaming\\python\\python310\\site-packages (from pooch->bio) (3.5.3)\n",
      "Requirement already satisfied: colorama in c:\\users\\user\\appdata\\roaming\\python\\python310\\site-packages (from tqdm->bio) (0.4.6)\n",
      "Requirement already satisfied: matplotlib in c:\\users\\user\\appdata\\local\\programs\\python\\python310\\lib\\site-packages (3.7.1)\n",
      "Requirement already satisfied: contourpy>=1.0.1 in c:\\users\\user\\appdata\\local\\programs\\python\\python310\\lib\\site-packages (from matplotlib) (1.0.7)\n",
      "Requirement already satisfied: kiwisolver>=1.0.1 in c:\\users\\user\\appdata\\local\\programs\\python\\python310\\lib\\site-packages (from matplotlib) (1.4.4)\n",
      "Requirement already satisfied: fonttools>=4.22.0 in c:\\users\\user\\appdata\\local\\programs\\python\\python310\\lib\\site-packages (from matplotlib) (4.39.4)\n",
      "Requirement already satisfied: cycler>=0.10 in c:\\users\\user\\appdata\\local\\programs\\python\\python310\\lib\\site-packages (from matplotlib) (0.11.0)\n",
      "Requirement already satisfied: numpy>=1.20 in c:\\users\\user\\appdata\\local\\programs\\python\\python310\\lib\\site-packages (from matplotlib) (1.24.3)\n",
      "Requirement already satisfied: python-dateutil>=2.7 in c:\\users\\user\\appdata\\roaming\\python\\python310\\site-packages (from matplotlib) (2.8.2)\n",
      "Requirement already satisfied: packaging>=20.0 in c:\\users\\user\\appdata\\roaming\\python\\python310\\site-packages (from matplotlib) (23.1)\n",
      "Requirement already satisfied: pyparsing>=2.3.1 in c:\\users\\user\\appdata\\local\\programs\\python\\python310\\lib\\site-packages (from matplotlib) (3.0.9)\n",
      "Requirement already satisfied: pillow>=6.2.0 in c:\\users\\user\\appdata\\local\\programs\\python\\python310\\lib\\site-packages (from matplotlib) (9.5.0)\n",
      "Requirement already satisfied: six>=1.5 in c:\\users\\user\\appdata\\roaming\\python\\python310\\site-packages (from python-dateutil>=2.7->matplotlib) (1.16.0)\n",
      "Note: you may need to restart the kernel to use updated packages.\n"
     ]
    },
    {
     "name": "stderr",
     "output_type": "stream",
     "text": [
      "WARNING: You are using pip version 21.2.3; however, version 23.1.2 is available.\n",
      "You should consider upgrading via the 'c:\\Users\\User\\AppData\\Local\\Programs\\Python\\Python310\\python.exe -m pip install --upgrade pip' command.\n"
     ]
    },
    {
     "name": "stdout",
     "output_type": "stream",
     "text": [
      "Requirement already satisfied: Levenshtein in c:\\users\\user\\appdata\\local\\programs\\python\\python310\\lib\\site-packages (0.21.1)\n",
      "Requirement already satisfied: rapidfuzz<4.0.0,>=2.3.0 in c:\\users\\user\\appdata\\local\\programs\\python\\python310\\lib\\site-packages (from Levenshtein) (3.1.1)\n",
      "Note: you may need to restart the kernel to use updated packages.\n"
     ]
    },
    {
     "name": "stderr",
     "output_type": "stream",
     "text": [
      "WARNING: You are using pip version 21.2.3; however, version 23.1.2 is available.\n",
      "You should consider upgrading via the 'c:\\Users\\User\\AppData\\Local\\Programs\\Python\\Python310\\python.exe -m pip install --upgrade pip' command.\n"
     ]
    },
    {
     "name": "stdout",
     "output_type": "stream",
     "text": [
      "Requirement already satisfied: py3Dmol in c:\\users\\user\\appdata\\local\\programs\\python\\python310\\lib\\site-packages (2.0.3)\n",
      "Note: you may need to restart the kernel to use updated packages.\n"
     ]
    },
    {
     "name": "stderr",
     "output_type": "stream",
     "text": [
      "WARNING: You are using pip version 21.2.3; however, version 23.1.2 is available.\n",
      "You should consider upgrading via the 'c:\\Users\\User\\AppData\\Local\\Programs\\Python\\Python310\\python.exe -m pip install --upgrade pip' command.\n"
     ]
    }
   ],
   "source": [
    "%pip install biopython\n",
    "%pip install bio\n",
    "%pip install matplotlib\n",
    "%pip install Levenshtein\n",
    "%pip install py3Dmol"
   ]
  },
  {
   "cell_type": "code",
   "execution_count": 2,
   "metadata": {},
   "outputs": [],
   "source": [
    "import Bio\n",
    "from Bio import SeqIO, pairwise2\n",
    "from Bio.pairwise2 import format_alignment as fa\n",
    "from Bio.SeqUtils import Seq, GC, gc_fraction, MeltingTemp, molecular_weight\n",
    "from matplotlib import pyplot as plt\n",
    "from Bio.Data import CodonTable\n"
   ]
  },
  {
   "cell_type": "code",
   "execution_count": 6,
   "metadata": {},
   "outputs": [
    {
     "name": "stdout",
     "output_type": "stream",
     "text": [
      "[Alignment(seqA='CGATCGATGCATGGCCTAACGTATA', seqB='CGATC---G-AT-G-----C--AT-', score=12.0, start=0, end=25), Alignment(seqA='CGATCGATGCATGGCCTAACGTATA', seqB='CGATCG----AT-G-----C--AT-', score=12.0, start=0, end=25), Alignment(seqA='CGATCGATGCATGGCCTAACGTATA', seqB='CGATCGA----T-G-----C--AT-', score=12.0, start=0, end=25), Alignment(seqA='CGATCGATGCATGGCCTAACGTATA', seqB='CGATCGAT-----G-----C--AT-', score=12.0, start=0, end=25), Alignment(seqA='CGATCGATGCATGGCCTAACGTATA', seqB='CGATC---G-ATG------C--AT-', score=12.0, start=0, end=25), Alignment(seqA='CGATCGATGCATGGCCTAACGTATA', seqB='CGATCG----ATG------C--AT-', score=12.0, start=0, end=25), Alignment(seqA='CGATCGATGCATGGCCTAACGTATA', seqB='CGATCGA----TG------C--AT-', score=12.0, start=0, end=25), Alignment(seqA='CGATCGATGCATGGCCTAACGTATA', seqB='CGATCGAT----G------C--AT-', score=12.0, start=0, end=25), Alignment(seqA='CGATCGATGCATGGCCTAACGTATA', seqB='CGATCGATG----------C--AT-', score=12.0, start=0, end=25)]\n",
      "-\n",
      "12.0\n"
     ]
    }
   ],
   "source": [
    "# buat 2 sequence\n",
    "seqA = Seq(\"CGATCGATGCATGGCCTAACGTATA\")\n",
    "seqB = Seq(\"CGATCGATGCAT\")\n",
    "\n",
    "# Global alignment - biasanya buat panjang sequence sama\n",
    "global_align = pairwise2.align.globalxx(seqA, seqB)\n",
    "global_align2 = pairwise2.align.globalxx(seqA, seqB, one_alignment_only=True, score_only=True)\n",
    "print(global_align)\n",
    "print(\"-\")\n",
    "print(global_align2)"
   ]
  },
  {
   "cell_type": "code",
   "execution_count": 8,
   "metadata": {},
   "outputs": [
    {
     "name": "stdout",
     "output_type": "stream",
     "text": [
      "[Alignment(seqA='CGATCGATGCATGGCCTAACGTATA', seqB='CGATC---G-AT-G-----C--AT-', score=12.0, start=0, end=24), Alignment(seqA='CGATCGATGCATGGCCTAACGTATA', seqB='CGATCG----AT-G-----C--AT-', score=12.0, start=0, end=24), Alignment(seqA='CGATCGATGCATGGCCTAACGTATA', seqB='CGATCGA----T-G-----C--AT-', score=12.0, start=0, end=24), Alignment(seqA='CGATCGATGCATGGCCTAACGTATA', seqB='CGATCGAT-----G-----C--AT-', score=12.0, start=0, end=24), Alignment(seqA='CGATCGATGCATGGCCTAACGTATA', seqB='CGATC---G-ATG------C--AT-', score=12.0, start=0, end=24), Alignment(seqA='CGATCGATGCATGGCCTAACGTATA', seqB='CGATCG----ATG------C--AT-', score=12.0, start=0, end=24), Alignment(seqA='CGATCGATGCATGGCCTAACGTATA', seqB='CGATCGA----TG------C--AT-', score=12.0, start=0, end=24), Alignment(seqA='CGATCGATGCATGGCCTAACGTATA', seqB='CGATCGAT----G------C--AT-', score=12.0, start=0, end=24), Alignment(seqA='CGATCGATGCATGGCCTAACGTATA', seqB='CGATCGATG----------C--AT-', score=12.0, start=0, end=24)]\n"
     ]
    }
   ],
   "source": [
    "# local alignment - gak harus sama panjang sequencenya\n",
    "local_align = pairwise2.align.localxx(seqA, seqB)\n",
    "print(local_align)"
   ]
  },
  {
   "attachments": {},
   "cell_type": "markdown",
   "metadata": {},
   "source": [
    "View possible alignment"
   ]
  },
  {
   "cell_type": "code",
   "execution_count": 9,
   "metadata": {},
   "outputs": [
    {
     "name": "stdout",
     "output_type": "stream",
     "text": [
      "CGATCGATGCATGGCCTAACGTATA\n",
      "|||||   | || |     |  || \n",
      "CGATC---G-AT-G-----C--AT-\n",
      "  Score=12\n",
      "\n",
      "CGATCGATGCATGGCCTAACGTATA\n",
      "||||||    || |     |  || \n",
      "CGATCG----AT-G-----C--AT-\n",
      "  Score=12\n",
      "\n",
      "CGATCGATGCATGGCCTAACGTATA\n",
      "|||||||    | |     |  || \n",
      "CGATCGA----T-G-----C--AT-\n",
      "  Score=12\n",
      "\n",
      "CGATCGATGCATGGCCTAACGTATA\n",
      "||||||||     |     |  || \n",
      "CGATCGAT-----G-----C--AT-\n",
      "  Score=12\n",
      "\n",
      "CGATCGATGCATGGCCTAACGTATA\n",
      "|||||   | |||      |  || \n",
      "CGATC---G-ATG------C--AT-\n",
      "  Score=12\n",
      "\n",
      "CGATCGATGCATGGCCTAACGTATA\n",
      "||||||    |||      |  || \n",
      "CGATCG----ATG------C--AT-\n",
      "  Score=12\n",
      "\n",
      "CGATCGATGCATGGCCTAACGTATA\n",
      "|||||||    ||      |  || \n",
      "CGATCGA----TG------C--AT-\n",
      "  Score=12\n",
      "\n",
      "CGATCGATGCATGGCCTAACGTATA\n",
      "||||||||    |      |  || \n",
      "CGATCGAT----G------C--AT-\n",
      "  Score=12\n",
      "\n",
      "CGATCGATGCATGGCCTAACGTATA\n",
      "|||||||||          |  || \n",
      "CGATCGATG----------C--AT-\n",
      "  Score=12\n",
      "\n"
     ]
    }
   ],
   "source": [
    "# butuh bintang buat ngeprint format alignment\n",
    "for alignment in global_align:\n",
    "    print(fa(*alignment))\n",
    "\n",
    "# score buat ngeliat berapa banyak yang sama"
   ]
  },
  {
   "cell_type": "code",
   "execution_count": 11,
   "metadata": {},
   "outputs": [
    {
     "name": "stdout",
     "output_type": "stream",
     "text": [
      "Global MS =  [Alignment(seqA='CGATCGATGCATGGCCTAACGTATA', seqB='CGATCGATGCAT-------------', score=22.299999999999983, start=0, end=25)]\n",
      "Global MS =  22.299999999999983\n"
     ]
    }
   ],
   "source": [
    "# maximum similarity score\n",
    "\n",
    "# matches = 2 | mismatch = -1 | openinggap = -0.5 | extendinggap = -0.1\n",
    "global_ms = pairwise2.align.globalms(seqA, seqB, 2, -1, -0.5, -0.1)\n",
    "print(f'Global MS = ', global_ms)\n",
    "\n",
    "# misal mau ambil score doang\n",
    "# one_alignment_only = true\n",
    "# score_only = true\n",
    "global_ms = pairwise2.align.globalms(seqA, seqB, 2, -1, -0.5, -0.1, one_alignment_only = True, score_only = True)\n",
    "print(f'Global MS = ', global_ms)\n"
   ]
  },
  {
   "cell_type": "markdown",
   "metadata": {},
   "source": [
    "# Similarity"
   ]
  },
  {
   "cell_type": "code",
   "execution_count": 13,
   "metadata": {},
   "outputs": [
    {
     "name": "stdout",
     "output_type": "stream",
     "text": [
      "89.19999999999993\n",
      "48.0\n"
     ]
    }
   ],
   "source": [
    "similar_ms = global_ms/len(seqA)*100 # dari global max\n",
    "print(similar_ms)\n",
    "\n",
    "similar_align = global_align2/len(seqA)*100 # dari global align\n",
    "print(similar_align)"
   ]
  },
  {
   "cell_type": "code",
   "execution_count": null,
   "metadata": {},
   "outputs": [],
   "source": []
  },
  {
   "cell_type": "code",
   "execution_count": null,
   "metadata": {},
   "outputs": [],
   "source": []
  }
 ],
 "metadata": {
  "kernelspec": {
   "display_name": "Python 3",
   "language": "python",
   "name": "python3"
  },
  "language_info": {
   "codemirror_mode": {
    "name": "ipython",
    "version": 3
   },
   "file_extension": ".py",
   "mimetype": "text/x-python",
   "name": "python",
   "nbconvert_exporter": "python",
   "pygments_lexer": "ipython3",
   "version": "3.10.0"
  },
  "orig_nbformat": 4
 },
 "nbformat": 4,
 "nbformat_minor": 2
}
