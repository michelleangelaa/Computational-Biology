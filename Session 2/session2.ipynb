{
 "cells": [
  {
   "cell_type": "markdown",
   "metadata": {},
   "source": []
  },
  {
   "attachments": {},
   "cell_type": "markdown",
   "metadata": {},
   "source": [
    "Session 2 - DNA Composition Analysis"
   ]
  },
  {
   "cell_type": "code",
   "execution_count": 1,
   "metadata": {},
   "outputs": [
    {
     "name": "stdout",
     "output_type": "stream",
     "text": [
      "Requirement already satisfied: biopython in c:\\users\\user\\appdata\\local\\programs\\python\\python310\\lib\\site-packages (1.81)\n",
      "Requirement already satisfied: numpy in c:\\users\\user\\appdata\\local\\programs\\python\\python310\\lib\\site-packages (from biopython) (1.24.3)\n",
      "Note: you may need to restart the kernel to use updated packages.\n"
     ]
    },
    {
     "name": "stderr",
     "output_type": "stream",
     "text": [
      "WARNING: You are using pip version 21.2.3; however, version 23.1.2 is available.\n",
      "You should consider upgrading via the 'c:\\Users\\User\\AppData\\Local\\Programs\\Python\\Python310\\python.exe -m pip install --upgrade pip' command.\n"
     ]
    }
   ],
   "source": [
    "%pip install biopython"
   ]
  },
  {
   "cell_type": "code",
   "execution_count": 2,
   "metadata": {},
   "outputs": [],
   "source": [
    "import Bio"
   ]
  },
  {
   "attachments": {},
   "cell_type": "markdown",
   "metadata": {},
   "source": [
    "GC Contents in DNA\n",
    "- GC content: percentage of nitrogenos bases in a DNA or an RNA molecule that are either Guanine (G) or Cytosine (C)\n",
    "- A higher GC-content level indicates a relatively higher melting temperature"
   ]
  },
  {
   "cell_type": "code",
   "execution_count": 3,
   "metadata": {},
   "outputs": [],
   "source": [
    "from Bio.SeqUtils import Seq"
   ]
  },
  {
   "cell_type": "code",
   "execution_count": 6,
   "metadata": {},
   "outputs": [
    {
     "data": {
      "text/plain": [
       "1"
      ]
     },
     "execution_count": 6,
     "metadata": {},
     "output_type": "execute_result"
    }
   ],
   "source": [
    "dna_seq = Seq('CGAT')\n",
    "dna_seq.count('G')"
   ]
  },
  {
   "cell_type": "code",
   "execution_count": 9,
   "metadata": {},
   "outputs": [
    {
     "data": {
      "text/plain": [
       "50.0"
      ]
     },
     "execution_count": 9,
     "metadata": {},
     "output_type": "execute_result"
    }
   ],
   "source": [
    "# METHOD 1\n",
    "# Create a custom function with iteration that calculates GC content\n",
    "# count manual\n",
    "\n",
    "def gc_contents1(seq):\n",
    "    count = 0\n",
    "    for x in seq:\n",
    "        if x in 'CG':\n",
    "            count += 1\n",
    "    result = count/len(seq)*100\n",
    "    return result\n",
    "\n",
    "gc_contents1(dna_seq)"
   ]
  },
  {
   "cell_type": "code",
   "execution_count": 12,
   "metadata": {},
   "outputs": [
    {
     "data": {
      "text/plain": [
       "50.0"
      ]
     },
     "execution_count": 12,
     "metadata": {},
     "output_type": "execute_result"
    }
   ],
   "source": [
    "# METHOD 2\n",
    "# Create a function with count that calculates GC content\n",
    "# .count()\n",
    "\n",
    "def gc_contents2(seq):\n",
    "    result = (seq.count('G') + seq.count('C'))/len(seq) * 100\n",
    "    return result\n",
    "\n",
    "gc_contents2(dna_seq)"
   ]
  },
  {
   "cell_type": "code",
   "execution_count": 14,
   "metadata": {},
   "outputs": [],
   "source": [
    "# METHOD 3\n",
    "# import GC Function\n",
    "\n",
    "from Bio.SeqUtils import GC\n",
    "from Bio.SeqUtils import gc_fraction"
   ]
  },
  {
   "cell_type": "code",
   "execution_count": 15,
   "metadata": {},
   "outputs": [
    {
     "data": {
      "text/plain": [
       "50.0"
      ]
     },
     "execution_count": 15,
     "metadata": {},
     "output_type": "execute_result"
    }
   ],
   "source": [
    "# use GC function to get GC content\n",
    "# OPSI 1\n",
    "# gc_function = GC(dna_seq)\n",
    "# gc_function\n",
    "\n",
    "# OPSI 2\n",
    "gc_function = gc_fraction(dna_seq)*100\n",
    "gc_function"
   ]
  },
  {
   "attachments": {},
   "cell_type": "markdown",
   "metadata": {},
   "source": [
    "AT CONTENTS IN DNA\n",
    "*   AT Content is the percentage of nitrogenous bases in a DNA or RNA molecule that is either Adenine (A) or Thymine (T)\n",
    "*   AT Base pairs only have TWO hydrogen bonds, while GC has THREE hydrogen bonds. That is the reason why a DNA with a higher GC-content tends to be more stabile"
   ]
  },
  {
   "cell_type": "code",
   "execution_count": 16,
   "metadata": {},
   "outputs": [
    {
     "data": {
      "text/plain": [
       "50.0"
      ]
     },
     "execution_count": 16,
     "metadata": {},
     "output_type": "execute_result"
    }
   ],
   "source": [
    "# METHOD 1\n",
    "# Create an iteration function to get AT content\n",
    "\n",
    "def at_contents1(seq):\n",
    "    count = 0\n",
    "    for x in seq:\n",
    "        if x  in 'AT':\n",
    "            count += 1\n",
    "    result = count/len(seq)*100\n",
    "    return result\n",
    "\n",
    "at_contents1(dna_seq)"
   ]
  },
  {
   "cell_type": "markdown",
   "metadata": {},
   "source": []
  },
  {
   "cell_type": "code",
   "execution_count": 17,
   "metadata": {},
   "outputs": [
    {
     "data": {
      "text/plain": [
       "50.0"
      ]
     },
     "execution_count": 17,
     "metadata": {},
     "output_type": "execute_result"
    }
   ],
   "source": [
    "# METHOD 2\n",
    "# create a function with count to get AT content\n",
    "def at_contents2(seq):\n",
    "    result = (seq.count('A')+seq.count('T'))/len(seq)*100\n",
    "    return result\n",
    "\n",
    "at_contents2(dna_seq)"
   ]
  },
  {
   "attachments": {},
   "cell_type": "markdown",
   "metadata": {},
   "source": [
    "Melting Point of DNA\n",
    "Melting temperature - refer temperature at which 50% of DNA denatured from double-stranded DNA to single-stranded DNA\n",
    "dsDNA to ssDNA\n",
    "DNA seq with higher GC content tends to have a higher melting point"
   ]
  },
  {
   "cell_type": "code",
   "execution_count": 18,
   "metadata": {},
   "outputs": [],
   "source": [
    "# Import MeltingTemp from Bio.SeqUtils and assign as mt\n",
    "from Bio.SeqUtils import MeltingTemp as mt"
   ]
  },
  {
   "cell_type": "code",
   "execution_count": 19,
   "metadata": {},
   "outputs": [],
   "source": [
    "# create a DNA sequence\n",
    "dna_seq = Seq('CGATCGATCGAT')"
   ]
  },
  {
   "cell_type": "code",
   "execution_count": 20,
   "metadata": {},
   "outputs": [
    {
     "data": {
      "text/plain": [
       "36.0"
      ]
     },
     "execution_count": 20,
     "metadata": {},
     "output_type": "execute_result"
    }
   ],
   "source": [
    "# check the melting point using Wallace\n",
    "mt.Tm_Wallace(dna_seq)"
   ]
  },
  {
   "cell_type": "code",
   "execution_count": 21,
   "metadata": {},
   "outputs": [
    {
     "data": {
      "text/plain": [
       "30.40290207197791"
      ]
     },
     "execution_count": 21,
     "metadata": {},
     "output_type": "execute_result"
    }
   ],
   "source": [
    "# check the melting point using GC content\n",
    "mt.Tm_GC(dna_seq)"
   ]
  },
  {
   "cell_type": "code",
   "execution_count": 22,
   "metadata": {},
   "outputs": [
    {
     "data": {
      "text/plain": [
       "32.71608193055266"
      ]
     },
     "execution_count": 22,
     "metadata": {},
     "output_type": "execute_result"
    }
   ],
   "source": [
    "# check the melting point using NN\n",
    "mt.Tm_NN(dna_seq)"
   ]
  },
  {
   "attachments": {},
   "cell_type": "markdown",
   "metadata": {},
   "source": [
    "Exercise\n",
    "Which of the following DNA Sequence has the higher Melting Temperature?\n",
    "\n",
    "'ATGCATGGTGCGCGA'\n",
    "'ATTTGTGCTCCTGGA'"
   ]
  },
  {
   "cell_type": "code",
   "execution_count": 23,
   "metadata": {},
   "outputs": [],
   "source": [
    "# create DNA Sequences\n",
    "dna_seq1 = Seq('ATGCATGGTGCGCGA')\n",
    "dna_seq2 = Seq('ATTTGTGCTCCTGGA')"
   ]
  },
  {
   "cell_type": "code",
   "execution_count": 51,
   "metadata": {},
   "outputs": [],
   "source": [
    "# create get_metrics function\n",
    "# wallace\n",
    "\n",
    "def get_metrics(seq1, seq2):\n",
    "    mp1 = mt.Tm_Wallace(seq1)\n",
    "    mp2 = mt.Tm_Wallace(seq2)\n",
    "    if(mp1 > mp2):\n",
    "        print(\"seq1\")\n",
    "        return mp1\n",
    "    else:\n",
    "        print(\"seq2\")\n",
    "        return mp2\n",
    "    \n",
    "def get_value(seq):\n",
    "    mp1 = mt.Tm_Wallace(seq)\n",
    "    result1 = (seq.count('G')+seq.count('C'))/len(seq)*100\n",
    "    result2 = (seq.count('A')+seq.count('T'))/len(seq)*100\n",
    "    print(f\"Output: GC: {result1}, AT: {result2}, Melting Temp: {mp1}\")"
   ]
  },
  {
   "cell_type": "code",
   "execution_count": 52,
   "metadata": {},
   "outputs": [
    {
     "name": "stdout",
     "output_type": "stream",
     "text": [
      "seq1\n",
      "48.0\n",
      "Output: GC: 60.0, AT: 40.0, Melting Temp: 48.0\n",
      "Output: GC: 46.666666666666664, AT: 53.333333333333336, Melting Temp: 44.0\n"
     ]
    }
   ],
   "source": [
    "# call get metrics\n",
    "print(get_metrics(dna_seq1, dna_seq2))\n",
    "get_value(dna_seq1)\n",
    "get_value(dna_seq2)"
   ]
  },
  {
   "attachments": {},
   "cell_type": "markdown",
   "metadata": {},
   "source": [
    "MOLECULAR WEIGHT\n",
    "- double stranded multiplying length (in bp) by 650\n",
    "- answer expressed as daltons or g/mol"
   ]
  },
  {
   "cell_type": "code",
   "execution_count": 53,
   "metadata": {},
   "outputs": [],
   "source": [
    "from Bio.SeqUtils import molecular_weight"
   ]
  },
  {
   "cell_type": "code",
   "execution_count": 54,
   "metadata": {},
   "outputs": [
    {
     "data": {
      "text/plain": [
       "1307.8486"
      ]
     },
     "execution_count": 54,
     "metadata": {},
     "output_type": "execute_result"
    }
   ],
   "source": [
    "dna_seq = Seq('CGAT')\n",
    "\n",
    "c_seq = Seq('C')\n",
    "g_seq = Seq('G')\n",
    "a_seq = Seq('A')\n",
    "t_seq = Seq('T')\n",
    "\n",
    "check = molecular_weight(c_seq) + molecular_weight(g_seq) + molecular_weight(a_seq) + molecular_weight(t_seq)\n",
    "check"
   ]
  },
  {
   "cell_type": "code",
   "execution_count": 55,
   "metadata": {},
   "outputs": [
    {
     "data": {
      "text/plain": [
       "1253.8027"
      ]
     },
     "execution_count": 55,
     "metadata": {},
     "output_type": "execute_result"
    }
   ],
   "source": [
    "# calculate molecular weight for DNA sequence\n",
    "molecular_weight(dna_seq)"
   ]
  }
 ],
 "metadata": {
  "kernelspec": {
   "display_name": "Python 3",
   "language": "python",
   "name": "python3"
  },
  "language_info": {
   "codemirror_mode": {
    "name": "ipython",
    "version": 3
   },
   "file_extension": ".py",
   "mimetype": "text/x-python",
   "name": "python",
   "nbconvert_exporter": "python",
   "pygments_lexer": "ipython3",
   "version": "3.10.0"
  },
  "orig_nbformat": 4
 },
 "nbformat": 4,
 "nbformat_minor": 2
}
