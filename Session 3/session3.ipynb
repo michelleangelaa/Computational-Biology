{
 "cells": [
  {
   "attachments": {},
   "cell_type": "markdown",
   "metadata": {},
   "source": [
    "# LAB 3: Protein Synthesis\n",
    "making proteins using 2 stages\n",
    "- transcription\n",
    "- translation"
   ]
  },
  {
   "cell_type": "code",
   "execution_count": 9,
   "metadata": {},
   "outputs": [
    {
     "name": "stdout",
     "output_type": "stream",
     "text": [
      "Requirement already satisfied: biopython in c:\\users\\user\\appdata\\local\\programs\\python\\python310\\lib\\site-packages (1.81)Note: you may need to restart the kernel to use updated packages.\n"
     ]
    },
    {
     "name": "stderr",
     "output_type": "stream",
     "text": [
      "WARNING: You are using pip version 21.2.3; however, version 23.1.2 is available.\n",
      "You should consider upgrading via the 'c:\\Users\\User\\AppData\\Local\\Programs\\Python\\Python310\\python.exe -m pip install --upgrade pip' command.\n"
     ]
    },
    {
     "name": "stdout",
     "output_type": "stream",
     "text": [
      "\n",
      "Requirement already satisfied: numpy in c:\\users\\user\\appdata\\local\\programs\\python\\python310\\lib\\site-packages (from biopython) (1.24.3)\n"
     ]
    }
   ],
   "source": [
    "%pip install biopython"
   ]
  },
  {
   "cell_type": "code",
   "execution_count": 10,
   "metadata": {},
   "outputs": [],
   "source": [
    "from Bio.SeqUtils import Seq"
   ]
  },
  {
   "cell_type": "code",
   "execution_count": 11,
   "metadata": {},
   "outputs": [
    {
     "data": {
      "text/plain": [
       "15"
      ]
     },
     "execution_count": 11,
     "metadata": {},
     "output_type": "execute_result"
    }
   ],
   "source": [
    "# create DNA sequence and calculate the length\n",
    "# dna length harus kepipatan 3\n",
    "\n",
    "dna_seq = Seq('ATGCGAATCGATTAG')\n",
    "dna_length = len(dna_seq)\n",
    "\n",
    "dna_length"
   ]
  },
  {
   "cell_type": "code",
   "execution_count": 12,
   "metadata": {},
   "outputs": [
    {
     "data": {
      "text/plain": [
       "Seq('TACGCTTAGCTAATC')"
      ]
     },
     "execution_count": 12,
     "metadata": {},
     "output_type": "execute_result"
    }
   ],
   "source": [
    "# calculate DNA sequence complement\n",
    "# AT = 2 hydrogen bonds GC = 3 hydrogen bonds\n",
    "# A -> T, T -> A, G -> C, C -> G\n",
    "dna_seq.complement()"
   ]
  },
  {
   "cell_type": "code",
   "execution_count": 13,
   "metadata": {},
   "outputs": [
    {
     "data": {
      "text/plain": [
       "Seq('CTAATCGATTCGCAT')"
      ]
     },
     "execution_count": 13,
     "metadata": {},
     "output_type": "execute_result"
    }
   ],
   "source": [
    "# calculate DNA sequence reverse complement\n",
    "dna_seq.reverse_complement()"
   ]
  },
  {
   "cell_type": "code",
   "execution_count": 14,
   "metadata": {},
   "outputs": [
    {
     "data": {
      "text/plain": [
       "Seq('CTAATCGATTCGCAT')"
      ]
     },
     "execution_count": 14,
     "metadata": {},
     "output_type": "execute_result"
    }
   ],
   "source": [
    "# custom function to calculate DNA sequence reverse complement\n",
    "# [::-1] -> reversing the order\n",
    "\n",
    "dna_seq.complement()[::-1]"
   ]
  },
  {
   "attachments": {},
   "cell_type": "markdown",
   "metadata": {},
   "source": [
    "PROTEIN SYNTHESIS\n",
    "DNA     ->          mRNA        ->      Protein\n",
    "    transcription          translation  \n",
    "    (write msg)            (decode msg)"
   ]
  },
  {
   "cell_type": "code",
   "execution_count": 16,
   "metadata": {},
   "outputs": [
    {
     "data": {
      "text/plain": [
       "Seq('ATGCGAATCGATTAG')"
      ]
     },
     "execution_count": 16,
     "metadata": {},
     "output_type": "execute_result"
    }
   ],
   "source": [
    "dna_seq"
   ]
  },
  {
   "cell_type": "code",
   "execution_count": 15,
   "metadata": {},
   "outputs": [
    {
     "data": {
      "text/plain": [
       "Seq('AUGCGAAUCGAUUAG')"
      ]
     },
     "execution_count": 15,
     "metadata": {},
     "output_type": "execute_result"
    }
   ],
   "source": [
    "# Transcription: DNA to mRNA (write msg)\n",
    "# T --> U\n",
    "mRNA = dna_seq.transcribe()\n",
    "mRNA"
   ]
  },
  {
   "cell_type": "code",
   "execution_count": 17,
   "metadata": {},
   "outputs": [
    {
     "data": {
      "text/plain": [
       "Seq('MRID*')"
      ]
     },
     "execution_count": 17,
     "metadata": {},
     "output_type": "execute_result"
    }
   ],
   "source": [
    "# Translation: mRNA to Protein/Amino Acid\n",
    "# Method 1\n",
    "# * means stop codon -> signal to body/stop translation in sequence/a black box in the codon table\n",
    "protein = mRNA.translate()\n",
    "protein"
   ]
  },
  {
   "cell_type": "code",
   "execution_count": 18,
   "metadata": {},
   "outputs": [
    {
     "data": {
      "text/plain": [
       "Seq('MRID*')"
      ]
     },
     "execution_count": 18,
     "metadata": {},
     "output_type": "execute_result"
    }
   ],
   "source": [
    "# Method 2\n",
    "# Direct translation of DNA to Amino Acid\n",
    "mRNA.translate()"
   ]
  },
  {
   "cell_type": "code",
   "execution_count": 19,
   "metadata": {},
   "outputs": [
    {
     "data": {
      "text/plain": [
       "Seq('MRID@')"
      ]
     },
     "execution_count": 19,
     "metadata": {},
     "output_type": "execute_result"
    }
   ],
   "source": [
    "# create our custom stop codon symbol\n",
    "mRNA.translate(stop_symbol='@')"
   ]
  },
  {
   "cell_type": "code",
   "execution_count": 20,
   "metadata": {},
   "outputs": [
    {
     "data": {
      "text/plain": [
       "Seq('ATGCGAATCGATTAG')"
      ]
     },
     "execution_count": 20,
     "metadata": {},
     "output_type": "execute_result"
    }
   ],
   "source": [
    "# Back transcipton: mRNA to DNA\n",
    "mRNA.back_transcribe()"
   ]
  },
  {
   "cell_type": "code",
   "execution_count": 21,
   "metadata": {},
   "outputs": [
    {
     "data": {
      "text/plain": [
       "Seq('MRID*')"
      ]
     },
     "execution_count": 21,
     "metadata": {},
     "output_type": "execute_result"
    }
   ],
   "source": [
    "# join the steps\n",
    "dna_seq.transcribe().translate()"
   ]
  },
  {
   "cell_type": "code",
   "execution_count": 22,
   "metadata": {},
   "outputs": [],
   "source": [
    "# import seq1 and seq3 to convert amino acid's letter codes\n",
    "from Bio.SeqUtils import seq1, seq3"
   ]
  },
  {
   "cell_type": "code",
   "execution_count": 23,
   "metadata": {},
   "outputs": [
    {
     "data": {
      "text/plain": [
       "'MetArgIleAspTer'"
      ]
     },
     "execution_count": 23,
     "metadata": {},
     "output_type": "execute_result"
    }
   ],
   "source": [
    "# convert amino acid to 3 letter codon\n",
    "letter_3 = seq3(protein)\n",
    "letter_3"
   ]
  },
  {
   "cell_type": "code",
   "execution_count": 24,
   "metadata": {},
   "outputs": [
    {
     "data": {
      "text/plain": [
       "'MRID*'"
      ]
     },
     "execution_count": 24,
     "metadata": {},
     "output_type": "execute_result"
    }
   ],
   "source": [
    "# convert from 3 letters to 1 letter\n",
    "seq1(letter_3)"
   ]
  },
  {
   "attachments": {},
   "cell_type": "markdown",
   "metadata": {},
   "source": [
    "# EXERCISE\n",
    "create a DNA sequence and perform protein synthesis\n",
    "the expected output must be\n",
    "MISVLF@CSH"
   ]
  },
  {
   "cell_type": "code",
   "execution_count": 53,
   "metadata": {},
   "outputs": [],
   "source": [
    "# create your dna sequence\n",
    "dna_seq = Seq('AUGCAUGGAUUCAUAGAGAUGGAGGAUGCAUCUAUGGAUGACCTCAUG')"
   ]
  },
  {
   "cell_type": "code",
   "execution_count": 54,
   "metadata": {},
   "outputs": [
    {
     "data": {
      "text/plain": [
       "Seq('MHGFIEMEDASMDDLM')"
      ]
     },
     "execution_count": 54,
     "metadata": {},
     "output_type": "execute_result"
    }
   ],
   "source": [
    "# transcribe and translate\n",
    "protein_seq = dna_seq.transcribe().translate(stop_symbol=\"@\")\n",
    "protein_seq"
   ]
  },
  {
   "cell_type": "code",
   "execution_count": 55,
   "metadata": {},
   "outputs": [
    {
     "data": {
      "text/plain": [
       "'MHGFIEMEDASMDDLM'"
      ]
     },
     "execution_count": 55,
     "metadata": {},
     "output_type": "execute_result"
    }
   ],
   "source": [
    "pre = (seq3(protein_seq))\n",
    "final = seq1(pre)\n",
    "final"
   ]
  },
  {
   "cell_type": "code",
   "execution_count": 58,
   "metadata": {},
   "outputs": [],
   "source": [
    "# answer checker\n",
    "def checkAnswer(protein_seq):\n",
    "    if protein_seq != 'MISVLF@CSH':\n",
    "        return False\n",
    "    return True"
   ]
  },
  {
   "cell_type": "code",
   "execution_count": 59,
   "metadata": {},
   "outputs": [
    {
     "data": {
      "text/plain": [
       "False"
      ]
     },
     "execution_count": 59,
     "metadata": {},
     "output_type": "execute_result"
    }
   ],
   "source": [
    "checkAnswer(protein_seq)"
   ]
  },
  {
   "attachments": {},
   "cell_type": "markdown",
   "metadata": {},
   "source": [
    "AMINO ACIDS CODON TABLE"
   ]
  },
  {
   "cell_type": "code",
   "execution_count": 60,
   "metadata": {},
   "outputs": [],
   "source": [
    "# import codonTable\n",
    "from Bio.Data import CodonTable"
   ]
  },
  {
   "cell_type": "code",
   "execution_count": 61,
   "metadata": {},
   "outputs": [
    {
     "data": {
      "text/plain": [
       "['AmbiguousCodonTable',\n",
       " 'AmbiguousForwardTable',\n",
       " 'CodonTable',\n",
       " 'IUPACData',\n",
       " 'NCBICodonTable',\n",
       " 'NCBICodonTableDNA',\n",
       " 'NCBICodonTableRNA',\n",
       " 'TranslationError',\n",
       " '__builtins__',\n",
       " '__cached__',\n",
       " '__doc__',\n",
       " '__file__',\n",
       " '__loader__',\n",
       " '__name__',\n",
       " '__package__',\n",
       " '__spec__',\n",
       " 'ambiguous_dna_by_id',\n",
       " 'ambiguous_dna_by_name',\n",
       " 'ambiguous_generic_by_id',\n",
       " 'ambiguous_generic_by_name',\n",
       " 'ambiguous_rna_by_id',\n",
       " 'ambiguous_rna_by_name',\n",
       " 'generic_by_id',\n",
       " 'generic_by_name',\n",
       " 'list_ambiguous_codons',\n",
       " 'list_possible_proteins',\n",
       " 'make_back_table',\n",
       " 'register_ncbi_table',\n",
       " 'standard_dna_table',\n",
       " 'standard_rna_table',\n",
       " 'unambiguous_dna_by_id',\n",
       " 'unambiguous_dna_by_name',\n",
       " 'unambiguous_rna_by_id',\n",
       " 'unambiguous_rna_by_name']"
      ]
     },
     "execution_count": 61,
     "metadata": {},
     "output_type": "execute_result"
    }
   ],
   "source": [
    "dir(CodonTable)"
   ]
  },
  {
   "cell_type": "code",
   "execution_count": 62,
   "metadata": {},
   "outputs": [
    {
     "name": "stdout",
     "output_type": "stream",
     "text": [
      "Table 1 Standard, SGC0\n",
      "\n",
      "  |  T      |  C      |  A      |  G      |\n",
      "--+---------+---------+---------+---------+--\n",
      "T | TTT F   | TCT S   | TAT Y   | TGT C   | T\n",
      "T | TTC F   | TCC S   | TAC Y   | TGC C   | C\n",
      "T | TTA L   | TCA S   | TAA Stop| TGA Stop| A\n",
      "T | TTG L(s)| TCG S   | TAG Stop| TGG W   | G\n",
      "--+---------+---------+---------+---------+--\n",
      "C | CTT L   | CCT P   | CAT H   | CGT R   | T\n",
      "C | CTC L   | CCC P   | CAC H   | CGC R   | C\n",
      "C | CTA L   | CCA P   | CAA Q   | CGA R   | A\n",
      "C | CTG L(s)| CCG P   | CAG Q   | CGG R   | G\n",
      "--+---------+---------+---------+---------+--\n",
      "A | ATT I   | ACT T   | AAT N   | AGT S   | T\n",
      "A | ATC I   | ACC T   | AAC N   | AGC S   | C\n",
      "A | ATA I   | ACA T   | AAA K   | AGA R   | A\n",
      "A | ATG M(s)| ACG T   | AAG K   | AGG R   | G\n",
      "--+---------+---------+---------+---------+--\n",
      "G | GTT V   | GCT A   | GAT D   | GGT G   | T\n",
      "G | GTC V   | GCC A   | GAC D   | GGC G   | C\n",
      "G | GTA V   | GCA A   | GAA E   | GGA G   | A\n",
      "G | GTG V   | GCG A   | GAG E   | GGG G   | G\n",
      "--+---------+---------+---------+---------+--\n"
     ]
    }
   ],
   "source": [
    "# DNA codon table\n",
    "print(CodonTable.ambiguous_dna_by_name['Standard'])"
   ]
  },
  {
   "cell_type": "code",
   "execution_count": 63,
   "metadata": {},
   "outputs": [
    {
     "name": "stdout",
     "output_type": "stream",
     "text": [
      "Table 1 Standard, SGC0\n",
      "\n",
      "  |  U      |  C      |  A      |  G      |\n",
      "--+---------+---------+---------+---------+--\n",
      "U | UUU F   | UCU S   | UAU Y   | UGU C   | U\n",
      "U | UUC F   | UCC S   | UAC Y   | UGC C   | C\n",
      "U | UUA L   | UCA S   | UAA Stop| UGA Stop| A\n",
      "U | UUG L(s)| UCG S   | UAG Stop| UGG W   | G\n",
      "--+---------+---------+---------+---------+--\n",
      "C | CUU L   | CCU P   | CAU H   | CGU R   | U\n",
      "C | CUC L   | CCC P   | CAC H   | CGC R   | C\n",
      "C | CUA L   | CCA P   | CAA Q   | CGA R   | A\n",
      "C | CUG L(s)| CCG P   | CAG Q   | CGG R   | G\n",
      "--+---------+---------+---------+---------+--\n",
      "A | AUU I   | ACU T   | AAU N   | AGU S   | U\n",
      "A | AUC I   | ACC T   | AAC N   | AGC S   | C\n",
      "A | AUA I   | ACA T   | AAA K   | AGA R   | A\n",
      "A | AUG M(s)| ACG T   | AAG K   | AGG R   | G\n",
      "--+---------+---------+---------+---------+--\n",
      "G | GUU V   | GCU A   | GAU D   | GGU G   | U\n",
      "G | GUC V   | GCC A   | GAC D   | GGC G   | C\n",
      "G | GUA V   | GCA A   | GAA E   | GGA G   | A\n",
      "G | GUG V   | GCG A   | GAG E   | GGG G   | G\n",
      "--+---------+---------+---------+---------+--\n"
     ]
    }
   ],
   "source": [
    "# RNA codon table\n",
    "print(CodonTable.ambiguous_rna_by_name['Standard'])"
   ]
  },
  {
   "attachments": {},
   "cell_type": "markdown",
   "metadata": {},
   "source": [
    "# 3D Structure of Protein"
   ]
  },
  {
   "cell_type": "code",
   "execution_count": 64,
   "metadata": {},
   "outputs": [
    {
     "name": "stdout",
     "output_type": "stream",
     "text": [
      "Collecting py3Dmol\n",
      "  Downloading py3Dmol-2.0.3-py2.py3-none-any.whl (12 kB)\n",
      "Installing collected packages: py3Dmol\n",
      "Successfully installed py3Dmol-2.0.3\n",
      "Note: you may need to restart the kernel to use updated packages.\n"
     ]
    },
    {
     "name": "stderr",
     "output_type": "stream",
     "text": [
      "WARNING: You are using pip version 21.2.3; however, version 23.1.2 is available.\n",
      "You should consider upgrading via the 'c:\\Users\\User\\AppData\\Local\\Programs\\Python\\Python310\\python.exe -m pip install --upgrade pip' command.\n"
     ]
    }
   ],
   "source": [
    "# install py3Dmol\n",
    "%pip install py3Dmol"
   ]
  },
  {
   "cell_type": "code",
   "execution_count": 65,
   "metadata": {},
   "outputs": [],
   "source": [
    "import py3Dmol"
   ]
  },
  {
   "cell_type": "code",
   "execution_count": 67,
   "metadata": {},
   "outputs": [
    {
     "data": {
      "application/3dmoljs_load.v0": "<div id=\"3dmolviewer_16867078689404726\"  style=\"position: relative; width: 640px; height: 480px;\">\n        <p id=\"3dmolwarning_16867078689404726\" style=\"background-color:#ffcccc;color:black\">You appear to be running in JupyterLab (or JavaScript failed to load for some other reason).  You need to install the 3dmol extension: <br>\n        <tt>jupyter labextension install jupyterlab_3dmol</tt></p>\n        </div>\n<script>\n\nvar loadScriptAsync = function(uri){\n  return new Promise((resolve, reject) => {\n    //this is to ignore the existence of requirejs amd\n    var savedexports, savedmodule;\n    if (typeof exports !== 'undefined') savedexports = exports;\n    else exports = {}\n    if (typeof module !== 'undefined') savedmodule = module;\n    else module = {}\n\n    var tag = document.createElement('script');\n    tag.src = uri;\n    tag.async = true;\n    tag.onload = () => {\n        exports = savedexports;\n        module = savedmodule;\n        resolve();\n    };\n  var firstScriptTag = document.getElementsByTagName('script')[0];\n  firstScriptTag.parentNode.insertBefore(tag, firstScriptTag);\n});\n};\n\nif(typeof $3Dmolpromise === 'undefined') {\n$3Dmolpromise = null;\n  $3Dmolpromise = loadScriptAsync('https://cdnjs.cloudflare.com/ajax/libs/3Dmol/2.0.3/3Dmol-min.js');\n}\n\nvar viewer_16867078689404726 = null;\nvar warn = document.getElementById(\"3dmolwarning_16867078689404726\");\nif(warn) {\n    warn.parentNode.removeChild(warn);\n}\n$3Dmolpromise.then(function() {\nviewer_16867078689404726 = $3Dmol.createViewer(document.getElementById(\"3dmolviewer_16867078689404726\"),{backgroundColor:\"white\"});\n$3Dmol.download(\"6LU7\", viewer_16867078689404726, {}, function() {\nviewer_16867078689404726.zoomTo();\n\tviewer_16867078689404726.setStyle({\"sphere\": {\"color\": \"spectrum\"}});\nviewer_16867078689404726.render();\n})\n});\n</script>",
      "text/html": [
       "<div id=\"3dmolviewer_16867078689404726\"  style=\"position: relative; width: 640px; height: 480px;\">\n",
       "        <p id=\"3dmolwarning_16867078689404726\" style=\"background-color:#ffcccc;color:black\">You appear to be running in JupyterLab (or JavaScript failed to load for some other reason).  You need to install the 3dmol extension: <br>\n",
       "        <tt>jupyter labextension install jupyterlab_3dmol</tt></p>\n",
       "        </div>\n",
       "<script>\n",
       "\n",
       "var loadScriptAsync = function(uri){\n",
       "  return new Promise((resolve, reject) => {\n",
       "    //this is to ignore the existence of requirejs amd\n",
       "    var savedexports, savedmodule;\n",
       "    if (typeof exports !== 'undefined') savedexports = exports;\n",
       "    else exports = {}\n",
       "    if (typeof module !== 'undefined') savedmodule = module;\n",
       "    else module = {}\n",
       "\n",
       "    var tag = document.createElement('script');\n",
       "    tag.src = uri;\n",
       "    tag.async = true;\n",
       "    tag.onload = () => {\n",
       "        exports = savedexports;\n",
       "        module = savedmodule;\n",
       "        resolve();\n",
       "    };\n",
       "  var firstScriptTag = document.getElementsByTagName('script')[0];\n",
       "  firstScriptTag.parentNode.insertBefore(tag, firstScriptTag);\n",
       "});\n",
       "};\n",
       "\n",
       "if(typeof $3Dmolpromise === 'undefined') {\n",
       "$3Dmolpromise = null;\n",
       "  $3Dmolpromise = loadScriptAsync('https://cdnjs.cloudflare.com/ajax/libs/3Dmol/2.0.3/3Dmol-min.js');\n",
       "}\n",
       "\n",
       "var viewer_16867078689404726 = null;\n",
       "var warn = document.getElementById(\"3dmolwarning_16867078689404726\");\n",
       "if(warn) {\n",
       "    warn.parentNode.removeChild(warn);\n",
       "}\n",
       "$3Dmolpromise.then(function() {\n",
       "viewer_16867078689404726 = $3Dmol.createViewer(document.getElementById(\"3dmolviewer_16867078689404726\"),{backgroundColor:\"white\"});\n",
       "$3Dmol.download(\"6LU7\", viewer_16867078689404726, {}, function() {\n",
       "viewer_16867078689404726.zoomTo();\n",
       "\tviewer_16867078689404726.setStyle({\"sphere\": {\"color\": \"spectrum\"}});\n",
       "viewer_16867078689404726.render();\n",
       "})\n",
       "});\n",
       "</script>"
      ]
     },
     "metadata": {},
     "output_type": "display_data"
    }
   ],
   "source": [
    "# view 3d structure protein\n",
    "covid = py3Dmol.view(query = \"6LU7\")\n",
    "covid.setStyle({'sphere': {'color': 'spectrum'}})\n",
    "covid.show()"
   ]
  },
  {
   "attachments": {},
   "cell_type": "markdown",
   "metadata": {},
   "source": [
    "# Parsing and Analyzing Proteins from PDB Files"
   ]
  },
  {
   "cell_type": "code",
   "execution_count": 76,
   "metadata": {},
   "outputs": [],
   "source": [
    "# reading PDB files\n",
    "from Bio.PDB import PDBParser"
   ]
  },
  {
   "cell_type": "code",
   "execution_count": 77,
   "metadata": {},
   "outputs": [],
   "source": [
    "# create a parser\n",
    "pdb = PDBParser()"
   ]
  },
  {
   "cell_type": "code",
   "execution_count": 88,
   "metadata": {},
   "outputs": [
    {
     "ename": "FileNotFoundError",
     "evalue": "[Errno 2] No such file or directory: '/content/6lu7.pdb'",
     "output_type": "error",
     "traceback": [
      "\u001b[1;31m---------------------------------------------------------------------------\u001b[0m",
      "\u001b[1;31mFileNotFoundError\u001b[0m                         Traceback (most recent call last)",
      "Cell \u001b[1;32mIn[88], line 1\u001b[0m\n\u001b[1;32m----> 1\u001b[0m structure \u001b[39m=\u001b[39m pdb\u001b[39m.\u001b[39;49mget_structure(\u001b[39m\"\u001b[39;49m\u001b[39m6LU7\u001b[39;49m\u001b[39m\"\u001b[39;49m, \u001b[39m\"\u001b[39;49m\u001b[39m/content/6lu7.pdb\u001b[39;49m\u001b[39m\"\u001b[39;49m)\n\u001b[0;32m      2\u001b[0m structure\n",
      "File \u001b[1;32mc:\\Users\\User\\AppData\\Local\\Programs\\Python\\Python310\\lib\\site-packages\\Bio\\PDB\\PDBParser.py:96\u001b[0m, in \u001b[0;36mPDBParser.get_structure\u001b[1;34m(self, id, file)\u001b[0m\n\u001b[0;32m     93\u001b[0m \u001b[39m# Make a StructureBuilder instance (pass id of structure as parameter)\u001b[39;00m\n\u001b[0;32m     94\u001b[0m \u001b[39mself\u001b[39m\u001b[39m.\u001b[39mstructure_builder\u001b[39m.\u001b[39minit_structure(\u001b[39mid\u001b[39m)\n\u001b[1;32m---> 96\u001b[0m \u001b[39mwith\u001b[39;00m as_handle(file) \u001b[39mas\u001b[39;00m handle:\n\u001b[0;32m     97\u001b[0m     lines \u001b[39m=\u001b[39m handle\u001b[39m.\u001b[39mreadlines()\n\u001b[0;32m     98\u001b[0m     \u001b[39mif\u001b[39;00m \u001b[39mnot\u001b[39;00m lines:\n",
      "File \u001b[1;32mc:\\Users\\User\\AppData\\Local\\Programs\\Python\\Python310\\lib\\contextlib.py:135\u001b[0m, in \u001b[0;36m_GeneratorContextManager.__enter__\u001b[1;34m(self)\u001b[0m\n\u001b[0;32m    133\u001b[0m \u001b[39mdel\u001b[39;00m \u001b[39mself\u001b[39m\u001b[39m.\u001b[39margs, \u001b[39mself\u001b[39m\u001b[39m.\u001b[39mkwds, \u001b[39mself\u001b[39m\u001b[39m.\u001b[39mfunc\n\u001b[0;32m    134\u001b[0m \u001b[39mtry\u001b[39;00m:\n\u001b[1;32m--> 135\u001b[0m     \u001b[39mreturn\u001b[39;00m \u001b[39mnext\u001b[39;49m(\u001b[39mself\u001b[39;49m\u001b[39m.\u001b[39;49mgen)\n\u001b[0;32m    136\u001b[0m \u001b[39mexcept\u001b[39;00m \u001b[39mStopIteration\u001b[39;00m:\n\u001b[0;32m    137\u001b[0m     \u001b[39mraise\u001b[39;00m \u001b[39mRuntimeError\u001b[39;00m(\u001b[39m\"\u001b[39m\u001b[39mgenerator didn\u001b[39m\u001b[39m'\u001b[39m\u001b[39mt yield\u001b[39m\u001b[39m\"\u001b[39m) \u001b[39mfrom\u001b[39;00m \u001b[39mNone\u001b[39;00m\n",
      "File \u001b[1;32mc:\\Users\\User\\AppData\\Local\\Programs\\Python\\Python310\\lib\\site-packages\\Bio\\File.py:72\u001b[0m, in \u001b[0;36mas_handle\u001b[1;34m(handleish, mode, **kwargs)\u001b[0m\n\u001b[0;32m     30\u001b[0m \u001b[39m\u001b[39m\u001b[39mr\u001b[39m\u001b[39m\"\"\"Context manager to ensure we are using a handle.\u001b[39;00m\n\u001b[0;32m     31\u001b[0m \n\u001b[0;32m     32\u001b[0m \u001b[39mContext manager for arguments that can be passed to SeqIO and AlignIO read, write,\u001b[39;00m\n\u001b[1;32m   (...)\u001b[0m\n\u001b[0;32m     69\u001b[0m \n\u001b[0;32m     70\u001b[0m \u001b[39m\"\"\"\u001b[39;00m\n\u001b[0;32m     71\u001b[0m \u001b[39mtry\u001b[39;00m:\n\u001b[1;32m---> 72\u001b[0m     \u001b[39mwith\u001b[39;00m \u001b[39mopen\u001b[39m(handleish, mode, \u001b[39m*\u001b[39m\u001b[39m*\u001b[39mkwargs) \u001b[39mas\u001b[39;00m fp:\n\u001b[0;32m     73\u001b[0m         \u001b[39myield\u001b[39;00m fp\n\u001b[0;32m     74\u001b[0m \u001b[39mexcept\u001b[39;00m \u001b[39mTypeError\u001b[39;00m:\n",
      "\u001b[1;31mFileNotFoundError\u001b[0m: [Errno 2] No such file or directory: '/content/6lu7.pdb'"
     ]
    }
   ],
   "source": [
    "structure = pdb.get_structure(\"6LU7\", \"/content/6lu7.pdb\")\n",
    "structure"
   ]
  },
  {
   "cell_type": "code",
   "execution_count": 89,
   "metadata": {},
   "outputs": [
    {
     "ename": "NameError",
     "evalue": "name 'structure' is not defined",
     "output_type": "error",
     "traceback": [
      "\u001b[1;31m---------------------------------------------------------------------------\u001b[0m",
      "\u001b[1;31mNameError\u001b[0m                                 Traceback (most recent call last)",
      "Cell \u001b[1;32mIn[89], line 3\u001b[0m\n\u001b[0;32m      1\u001b[0m \u001b[39m# models in the structure\u001b[39;00m\n\u001b[0;32m      2\u001b[0m \u001b[39m# structure -> model -> chain -> residue -> atom\u001b[39;00m\n\u001b[1;32m----> 3\u001b[0m model \u001b[39m=\u001b[39m structure[\u001b[39m0\u001b[39m]\n\u001b[0;32m      4\u001b[0m model\n",
      "\u001b[1;31mNameError\u001b[0m: name 'structure' is not defined"
     ]
    }
   ],
   "source": [
    "# models in the structure\n",
    "# structure -> model -> chain -> residue -> atom\n",
    "model = structure[0]\n",
    "model"
   ]
  },
  {
   "cell_type": "code",
   "execution_count": 90,
   "metadata": {},
   "outputs": [
    {
     "ename": "NameError",
     "evalue": "name 'model' is not defined",
     "output_type": "error",
     "traceback": [
      "\u001b[1;31m---------------------------------------------------------------------------\u001b[0m",
      "\u001b[1;31mNameError\u001b[0m                                 Traceback (most recent call last)",
      "Cell \u001b[1;32mIn[90], line 2\u001b[0m\n\u001b[0;32m      1\u001b[0m \u001b[39m# check for chains\u001b[39;00m\n\u001b[1;32m----> 2\u001b[0m \u001b[39mfor\u001b[39;00m chain \u001b[39min\u001b[39;00m model:\n\u001b[0;32m      3\u001b[0m     \u001b[39mprint\u001b[39m(chain)\n",
      "\u001b[1;31mNameError\u001b[0m: name 'model' is not defined"
     ]
    }
   ],
   "source": [
    "# check for chains\n",
    "for chain in model:\n",
    "    print(chain)"
   ]
  },
  {
   "cell_type": "code",
   "execution_count": null,
   "metadata": {},
   "outputs": [],
   "source": [
    "# check for residue\n",
    "for chain in model:\n",
    "    for residu in chain: \n",
    "        print(residu)"
   ]
  },
  {
   "cell_type": "code",
   "execution_count": null,
   "metadata": {},
   "outputs": [],
   "source": [
    "# check for atoms\n",
    "for chain in model:\n",
    "    for residu in chain:\n",
    "        for atom in residu:\n",
    "            print(atom)"
   ]
  }
 ],
 "metadata": {
  "kernelspec": {
   "display_name": "Python 3",
   "language": "python",
   "name": "python3"
  },
  "language_info": {
   "codemirror_mode": {
    "name": "ipython",
    "version": 3
   },
   "file_extension": ".py",
   "mimetype": "text/x-python",
   "name": "python",
   "nbconvert_exporter": "python",
   "pygments_lexer": "ipython3",
   "version": "3.10.0"
  },
  "orig_nbformat": 4
 },
 "nbformat": 4,
 "nbformat_minor": 2
}
