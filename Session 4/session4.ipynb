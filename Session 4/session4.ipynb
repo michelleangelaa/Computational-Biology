{
 "cells": [
  {
   "attachments": {},
   "cell_type": "markdown",
   "metadata": {},
   "source": [
    "# Sequence Alignment\n",
    "Sequence alignment is a method of arranging sequences of DNA, RNA, or Amino Acids or proteins to identify regions of similarity.\n",
    "The similarity being identified, may be a result of functional, structural, or evolutionary relationships between the sequences.\n",
    "It is useful in identifying similarity and homology\n",
    "Homology: descent from a common ancestor or source.\n",
    "Terms:\n",
    "- Matches\n",
    "- Mismatches\n",
    "- Gap"
   ]
  },
  {
   "cell_type": "code",
   "execution_count": 7,
   "metadata": {},
   "outputs": [
    {
     "name": "stdout",
     "output_type": "stream",
     "text": [
      "Requirement already satisfied: biopython in c:\\users\\user\\appdata\\local\\programs\\python\\python310\\lib\\site-packages (1.81)\n",
      "Requirement already satisfied: numpy in c:\\users\\user\\appdata\\local\\programs\\python\\python310\\lib\\site-packages (from biopython) (1.24.3)\n",
      "Note: you may need to restart the kernel to use updated packages.\n"
     ]
    },
    {
     "name": "stderr",
     "output_type": "stream",
     "text": [
      "WARNING: You are using pip version 21.2.3; however, version 23.1.2 is available.\n",
      "You should consider upgrading via the 'c:\\Users\\User\\AppData\\Local\\Programs\\Python\\Python310\\python.exe -m pip install --upgrade pip' command.\n"
     ]
    }
   ],
   "source": [
    "%pip install biopython"
   ]
  },
  {
   "cell_type": "code",
   "execution_count": 8,
   "metadata": {},
   "outputs": [],
   "source": [
    "import Bio"
   ]
  },
  {
   "cell_type": "code",
   "execution_count": 9,
   "metadata": {},
   "outputs": [
    {
     "name": "stderr",
     "output_type": "stream",
     "text": [
      "c:\\Users\\User\\AppData\\Local\\Programs\\Python\\Python310\\lib\\site-packages\\Bio\\pairwise2.py:278: BiopythonDeprecationWarning: Bio.pairwise2 has been deprecated, and we intend to remove it in a future release of Biopython. As an alternative, please consider using Bio.Align.PairwiseAligner as a replacement, and contact the Biopython developers if you still need the Bio.pairwise2 module.\n",
      "  warnings.warn(\n"
     ]
    }
   ],
   "source": [
    "from Bio import pairwise2\n",
    "from Bio.pairwise2 import format_alignment\n",
    "from Bio.Seq import Seq"
   ]
  },
  {
   "cell_type": "code",
   "execution_count": 10,
   "metadata": {},
   "outputs": [],
   "source": [
    "dna_seq1 = Seq(\"TCACTCGT\")\n",
    "dna_seq2 = Seq(\"ATTCG\")"
   ]
  },
  {
   "cell_type": "code",
   "execution_count": 11,
   "metadata": {},
   "outputs": [
    {
     "name": "stdout",
     "output_type": "stream",
     "text": [
      "[Alignment(seqA='TCACT-CGT', seqB='--A-TTCG-', score=4.0, start=0, end=9), Alignment(seqA='TCAC-TCGT', seqB='--A-TTCG-', score=4.0, start=0, end=9), Alignment(seqA='TCACTCGT', seqB='--ATTCG-', score=4.0, start=0, end=8), Alignment(seqA='-TCACTCGT', seqB='AT---TCG-', score=4.0, start=0, end=9)]\n"
     ]
    }
   ],
   "source": [
    "# perform global alignment\n",
    "global_allign = pairwise2.align.globalxx(dna_seq1, dna_seq2)\n",
    "print(global_allign)"
   ]
  },
  {
   "cell_type": "code",
   "execution_count": 12,
   "metadata": {},
   "outputs": [
    {
     "name": "stdout",
     "output_type": "stream",
     "text": [
      "TCACT-CGT\n",
      "  | | || \n",
      "--A-TTCG-\n",
      "  Score=4\n",
      "\n"
     ]
    }
   ],
   "source": [
    "# display the alignment\n",
    "print(format_alignment(*global_allign[0]))"
   ]
  },
  {
   "cell_type": "code",
   "execution_count": 13,
   "metadata": {},
   "outputs": [
    {
     "name": "stdout",
     "output_type": "stream",
     "text": [
      "TCACT-CGT\n",
      "  | | || \n",
      "--A-TTCG-\n",
      "  Score=4\n",
      "\n",
      "TCAC-TCGT\n",
      "  |  ||| \n",
      "--A-TTCG-\n",
      "  Score=4\n",
      "\n",
      "TCACTCGT\n",
      "  |.||| \n",
      "--ATTCG-\n",
      "  Score=4\n",
      "\n",
      "-TCACTCGT\n",
      " |   ||| \n",
      "AT---TCG-\n",
      "  Score=4\n",
      "\n"
     ]
    }
   ],
   "source": [
    "# View all possible alignment\n",
    "for alignment in global_allign:\n",
    "    print(format_alignment(*alignment))"
   ]
  },
  {
   "cell_type": "code",
   "execution_count": 14,
   "metadata": {},
   "outputs": [
    {
     "name": "stdout",
     "output_type": "stream",
     "text": [
      "[Alignment(seqA='TCACT-CGT', seqB='--A-TTCG-', score=4.0, start=2, end=8), Alignment(seqA='TCAC-TCGT', seqB='--A-TTCG-', score=4.0, start=2, end=8), Alignment(seqA='TCACTCGT', seqB='--ATTCG-', score=4.0, start=2, end=7), Alignment(seqA='-TCACTCGT', seqB='AT---TCG-', score=4.0, start=1, end=8)]\n"
     ]
    }
   ],
   "source": [
    "# Perform Local Alignment\n",
    "local_align = pairwise2.align.localxx(dna_seq1, dna_seq2)\n",
    "print(local_align)"
   ]
  },
  {
   "cell_type": "code",
   "execution_count": 15,
   "metadata": {},
   "outputs": [
    {
     "name": "stdout",
     "output_type": "stream",
     "text": [
      "3 ACT-CG\n",
      "  | | ||\n",
      "1 A-TTCG\n",
      "  Score=4\n",
      "\n",
      "3 AC-TCG\n",
      "  |  |||\n",
      "1 A-TTCG\n",
      "  Score=4\n",
      "\n",
      "3 ACTCG\n",
      "  |.|||\n",
      "1 ATTCG\n",
      "  Score=4\n",
      "\n",
      "1 TCACTCG\n",
      "  |   |||\n",
      "2 T---TCG\n",
      "  Score=4\n",
      "\n"
     ]
    }
   ],
   "source": [
    "# view all possible alignment\n",
    "for alignment in local_align:\n",
    "    print(format_alignment(*alignment))\n",
    "    "
   ]
  },
  {
   "cell_type": "code",
   "execution_count": 16,
   "metadata": {},
   "outputs": [
    {
     "name": "stdout",
     "output_type": "stream",
     "text": [
      "4.0\n"
     ]
    }
   ],
   "source": [
    "# Get the local alignment by only the score\n",
    "local_score = pairwise2.align.localxx(dna_seq1, dna_seq2, score_only = True)\n",
    "print(local_score)"
   ]
  },
  {
   "cell_type": "code",
   "execution_count": 17,
   "metadata": {},
   "outputs": [
    {
     "name": "stdout",
     "output_type": "stream",
     "text": [
      "4.0\n"
     ]
    }
   ],
   "source": [
    "global_score = pairwise2.align.globalxx(dna_seq1, dna_seq2, score_only = True)\n",
    "print(global_score)"
   ]
  },
  {
   "attachments": {},
   "cell_type": "markdown",
   "metadata": {},
   "source": [
    "Check for similarity or percentage of similarity using Alignment\n",
    "fraction of nucleotides that is the same/total number of nucleotides * 100%"
   ]
  },
  {
   "cell_type": "code",
   "execution_count": 18,
   "metadata": {},
   "outputs": [
    {
     "data": {
      "text/plain": [
       "50.0"
      ]
     },
     "execution_count": 18,
     "metadata": {},
     "output_type": "execute_result"
    }
   ],
   "source": [
    "# calculate the global alignment percentage of similarity\n",
    "global_percent = global_score / len(dna_seq1) * 100\n",
    "global_percent"
   ]
  },
  {
   "cell_type": "code",
   "execution_count": 19,
   "metadata": {},
   "outputs": [
    {
     "data": {
      "text/plain": [
       "50.0"
      ]
     },
     "execution_count": 19,
     "metadata": {},
     "output_type": "execute_result"
    }
   ],
   "source": [
    "local_percent = local_score/len(dna_seq1)*100\n",
    "local_percent"
   ]
  },
  {
   "attachments": {},
   "cell_type": "markdown",
   "metadata": {},
   "source": [
    "# Global Alignments with Maximum Similarity Score"
   ]
  },
  {
   "attachments": {},
   "cell_type": "markdown",
   "metadata": {},
   "source": [
    "Find out all possible global alignment with the maximum similarity score\n",
    "- match = 2\n",
    "- mismatch = -1\n",
    "- open gap = -0.5\n",
    "- extend gap = -0.1"
   ]
  },
  {
   "cell_type": "code",
   "execution_count": 20,
   "metadata": {},
   "outputs": [
    {
     "name": "stdout",
     "output_type": "stream",
     "text": [
      "-TCACTCGT\n",
      " |   ||| \n",
      "AT---TCG-\n",
      "  Score=6.3\n",
      "\n"
     ]
    }
   ],
   "source": [
    "# performs global alignment with max similarity score\n",
    "# globalms(seqA, seqB, match, mismatch, gap, extend)\n",
    "\n",
    "# Perform global alignment with max similarity score\n",
    "alignments = pairwise2.align.globalms(dna_seq1, dna_seq2, 2, -1, -0.5, -0.1)\n",
    "\n",
    "# Print each alignment\n",
    "for alignment in alignments:\n",
    "    print(pairwise2.format_alignment(*alignment))"
   ]
  },
  {
   "attachments": {},
   "cell_type": "markdown",
   "metadata": {},
   "source": [
    "# Similarity Between Sequences"
   ]
  },
  {
   "cell_type": "code",
   "execution_count": 21,
   "metadata": {},
   "outputs": [],
   "source": [
    "# create 3 example sequences\n",
    "\n",
    "seqA = Seq(\"AAGGCTT\")\n",
    "seqB = Seq(\"AAGGC\")\n",
    "seqC = Seq(\"AAGGCAT\")"
   ]
  },
  {
   "cell_type": "code",
   "execution_count": 22,
   "metadata": {},
   "outputs": [],
   "source": [
    "# calculate local alignment and get the scores\n",
    "\n",
    "scoreAB = pairwise2.align.localxx(seqA, seqB, score_only = True)\n",
    "scoreBC = pairwise2.align.localxx(seqB, seqC, score_only = True)\n",
    "scoreAC = pairwise2.align.localxx(seqA, seqC, score_only = True)"
   ]
  },
  {
   "cell_type": "code",
   "execution_count": 23,
   "metadata": {},
   "outputs": [
    {
     "name": "stdout",
     "output_type": "stream",
     "text": [
      "100.0\n",
      "100.0\n",
      "85.71428571428571\n"
     ]
    }
   ],
   "source": [
    "# calculate percentage of similarity and print\n",
    "print(scoreAB/len(seqB)*100)\n",
    "print(scoreBC/len(seqB)*100)\n",
    "print(scoreAC/len(seqA)*100)"
   ]
  },
  {
   "cell_type": "code",
   "execution_count": 24,
   "metadata": {},
   "outputs": [
    {
     "data": {
      "text/plain": [
       "False"
      ]
     },
     "execution_count": 24,
     "metadata": {},
     "output_type": "execute_result"
    }
   ],
   "source": [
    "seqA == seqB"
   ]
  },
  {
   "attachments": {},
   "cell_type": "markdown",
   "metadata": {},
   "source": [
    "# Hamming distance\n",
    "shows how many places 2 strings offer\n",
    "number of positions at which the corresponding symbols are different"
   ]
  },
  {
   "cell_type": "code",
   "execution_count": 25,
   "metadata": {},
   "outputs": [],
   "source": [
    "# create example sequences\n",
    "sequence1 = Seq(\"ACTAT\")\n",
    "sequence2 = Seq(\"ACTTA\")\n",
    "sequence3 = Seq(\"ACTT\")"
   ]
  },
  {
   "cell_type": "code",
   "execution_count": 26,
   "metadata": {},
   "outputs": [],
   "source": [
    "# defining hamming distance function\n",
    "def hamming(seqa, seqb):\n",
    "        mismatchlist = [(x,y) for (x,y) in zip(seqa, seqb) if x != y]\n",
    "        return len(mismatchlist)"
   ]
  },
  {
   "cell_type": "code",
   "execution_count": 27,
   "metadata": {},
   "outputs": [
    {
     "data": {
      "text/plain": [
       "2"
      ]
     },
     "execution_count": 27,
     "metadata": {},
     "output_type": "execute_result"
    }
   ],
   "source": [
    "# perform hamming distance calculation. hamming ngitung yang punya pasangan\n",
    "hamming(sequence1, sequence2)"
   ]
  },
  {
   "cell_type": "markdown",
   "metadata": {},
   "source": [
    "# Levenshtein Distance"
   ]
  },
  {
   "attachments": {},
   "cell_type": "markdown",
   "metadata": {},
   "source": [
    "it works on strings with unequal length"
   ]
  },
  {
   "attachments": {},
   "cell_type": "markdown",
   "metadata": {},
   "source": [
    "The distance value describes the minimal number of deletions, insertions, or substitutions that are required to transform one string (the source) into another (the target)."
   ]
  },
  {
   "cell_type": "code",
   "execution_count": 28,
   "metadata": {},
   "outputs": [
    {
     "name": "stdout",
     "output_type": "stream",
     "text": [
      "Requirement already satisfied: Levenshtein in c:\\users\\user\\appdata\\local\\programs\\python\\python310\\lib\\site-packages (0.21.1)\n",
      "Requirement already satisfied: rapidfuzz<4.0.0,>=2.3.0 in c:\\users\\user\\appdata\\local\\programs\\python\\python310\\lib\\site-packages (from Levenshtein) (3.1.1)\n",
      "Note: you may need to restart the kernel to use updated packages.\n"
     ]
    },
    {
     "name": "stderr",
     "output_type": "stream",
     "text": [
      "WARNING: You are using pip version 21.2.3; however, version 23.1.2 is available.\n",
      "You should consider upgrading via the 'c:\\Users\\User\\AppData\\Local\\Programs\\Python\\Python310\\python.exe -m pip install --upgrade pip' command.\n"
     ]
    }
   ],
   "source": [
    "%pip install Levenshtein"
   ]
  },
  {
   "cell_type": "code",
   "execution_count": 29,
   "metadata": {},
   "outputs": [],
   "source": [
    "from Levenshtein import distance"
   ]
  },
  {
   "cell_type": "code",
   "execution_count": 30,
   "metadata": {},
   "outputs": [
    {
     "data": {
      "text/plain": [
       "2"
      ]
     },
     "execution_count": 30,
     "metadata": {},
     "output_type": "execute_result"
    }
   ],
   "source": [
    "distance(sequence1, sequence2)"
   ]
  },
  {
   "cell_type": "markdown",
   "metadata": {},
   "source": [
    "# Dot Plot"
   ]
  },
  {
   "cell_type": "code",
   "execution_count": 31,
   "metadata": {},
   "outputs": [],
   "source": [
    "# define delta function\n",
    "def delta(x,y):\n",
    "    return 0 if x == y else 1"
   ]
  },
  {
   "cell_type": "code",
   "execution_count": 32,
   "metadata": {},
   "outputs": [],
   "source": [
    "# define M function\n",
    "def M(seq1, seq2, i, j, k):\n",
    "    return sum(delta(x,y) for x,y in zip(seq1[i:i+k], seq2[j:j + k]))"
   ]
  },
  {
   "cell_type": "code",
   "execution_count": 33,
   "metadata": {},
   "outputs": [],
   "source": [
    "# define makeMatrix function\n",
    "def makeMatrix(seq1, seq2, k):\n",
    "    n = len(seq1)\n",
    "    m = len(seq2)\n",
    "    return [[M(seq1, seq2, i, j, k) for j in range(m-k+1)] for i in range(n-k+1)]"
   ]
  },
  {
   "cell_type": "code",
   "execution_count": 34,
   "metadata": {},
   "outputs": [],
   "source": [
    "# create 2 DNA sequence examples\n",
    "seq_X = Seq(\"ACCTGAGCTCACCTGAGTTA\")\n",
    "seq_Y = Seq(\"ACCTGAGCTCACCTGAGTTA\")"
   ]
  },
  {
   "cell_type": "code",
   "execution_count": 35,
   "metadata": {},
   "outputs": [],
   "source": [
    "# import numpy & matplotlib libraries to calculate & plot the result\n",
    "import numpy as np\n",
    "from matplotlib import pyplot as plt"
   ]
  },
  {
   "cell_type": "code",
   "execution_count": 36,
   "metadata": {},
   "outputs": [],
   "source": [
    "# create a function to disploay dotplot using matplotlib\n",
    "def FancyDotPlot(seqx, seqy):\n",
    "    plt.imshow(np.array(makeMatrix(seqx,seqy, 1)))\n",
    "    plt.xticks(np.arange(len(seqy)), seqy)\n",
    "    plt.yticks(np.arange(len(seqx)), seqx)\n",
    "    plt.show()\n"
   ]
  },
  {
   "cell_type": "code",
   "execution_count": 37,
   "metadata": {},
   "outputs": [
    {
     "data": {
      "image/png": "[encoded data removed]",
      "text/plain": [
       "<Figure size 640x480 with 1 Axes>"
      ]
     },
     "metadata": {},
     "output_type": "display_data"
    }
   ],
   "source": [
    "# call the function\n",
    "FancyDotPlot(seq_X, seq_Y)"
   ]
  },
  {
   "cell_type": "code",
   "execution_count": 38,
   "metadata": {},
   "outputs": [
    {
     "data": {
      "image/png": "[encoded data removed]",
      "text/plain": [
       "<Figure size 640x480 with 1 Axes>"
      ]
     },
     "metadata": {},
     "output_type": "display_data"
    }
   ],
   "source": [
    "FancyDotPlot(seqA, seqC)"
   ]
  },
  {
   "attachments": {},
   "cell_type": "markdown",
   "metadata": {},
   "source": [
    "create and displaying dotplot using ASCII characters"
   ]
  },
  {
   "cell_type": "code",
   "execution_count": 39,
   "metadata": {},
   "outputs": [],
   "source": [
    "# define plotMatrix function\n",
    "def plotMatrix(Mat, t, seq1, seq2, nonblank = chr(0x25A0) , blank = ' '):\n",
    "    print(' |' + seq2)\n",
    "    print('-' * (2 + len(seq2)))\n",
    "\n",
    "    for label, row in zip(seq1, Mat):\n",
    "        line = ''.join(nonblank if s < t else blank for s in row)\n",
    "        print(label + '|' + line)"
   ]
  },
  {
   "cell_type": "code",
   "execution_count": 40,
   "metadata": {},
   "outputs": [],
   "source": [
    "def dotplot(seq1, seq2, k = 1, t = 1):\n",
    "    Mat = makeMatrix(seq1, seq2, k)\n",
    "    plotMatrix(Mat, t, seq1, seq2)"
   ]
  },
  {
   "cell_type": "code",
   "execution_count": 41,
   "metadata": {},
   "outputs": [
    {
     "name": "stdout",
     "output_type": "stream",
     "text": [
      " |ACCTGAGCTCACCTGAGTTA\n",
      "----------------------\n",
      "A|■    ■    ■    ■   ■\n",
      "C| ■■    ■ ■ ■■       \n",
      "C| ■■    ■ ■ ■■       \n",
      "T|   ■    ■    ■   ■■ \n",
      "G|    ■ ■       ■ ■   \n",
      "A|■    ■    ■    ■   ■\n",
      "G|    ■ ■       ■ ■   \n",
      "C| ■■    ■ ■ ■■       \n",
      "T|   ■    ■    ■   ■■ \n",
      "C| ■■    ■ ■ ■■       \n",
      "A|■    ■    ■    ■   ■\n",
      "C| ■■    ■ ■ ■■       \n",
      "C| ■■    ■ ■ ■■       \n",
      "T|   ■    ■    ■   ■■ \n",
      "G|    ■ ■       ■ ■   \n",
      "A|■    ■    ■    ■   ■\n",
      "G|    ■ ■       ■ ■   \n",
      "T|   ■    ■    ■   ■■ \n",
      "T|   ■    ■    ■   ■■ \n",
      "A|■    ■    ■    ■   ■\n"
     ]
    }
   ],
   "source": [
    "dotplot(seq_X, seq_Y)"
   ]
  }
 ],
 "metadata": {
  "kernelspec": {
   "display_name": "Python 3",
   "language": "python",
   "name": "python3"
  },
  "language_info": {
   "codemirror_mode": {
    "name": "ipython",
    "version": 3
   },
   "file_extension": ".py",
   "mimetype": "text/x-python",
   "name": "python",
   "nbconvert_exporter": "python",
   "pygments_lexer": "ipython3",
   "version": "3.10.0"
  },
  "orig_nbformat": 4
 },
 "nbformat": 4,
 "nbformat_minor": 2
}
